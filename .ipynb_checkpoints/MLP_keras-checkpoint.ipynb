{
 "cells": [
  {
   "cell_type": "code",
   "execution_count": 1,
   "metadata": {},
   "outputs": [],
   "source": [
    "import numpy as np\n",
    "import pandas as pd\n",
    "import time\n",
    "import sys\n",
    "from sklearn.model_selection import train_test_split"
   ]
  },
  {
   "cell_type": "code",
   "execution_count": 2,
   "metadata": {},
   "outputs": [],
   "source": [
    "train = pd.read_csv('../feature/train_nn.csv')\n",
    "test = pd.read_csv('../feature/test_nn.csv')"
   ]
  },
  {
   "cell_type": "code",
   "execution_count": 3,
   "metadata": {},
   "outputs": [
    {
     "data": {
      "text/plain": [
       "((73147, 315), (31349, 314))"
      ]
     },
     "execution_count": 3,
     "metadata": {},
     "output_type": "execute_result"
    }
   ],
   "source": [
    "train.shape,test.shape"
   ]
  },
  {
   "cell_type": "code",
   "execution_count": 4,
   "metadata": {},
   "outputs": [],
   "source": [
    "y = train.is_pass.values\n",
    "train.drop(['id', 'is_pass'], inplace=True, axis=1)\n",
    "X = train.values\n",
    "\n",
    "x, x_test, y, y_test = train_test_split(X, y, test_size=0.2, random_state=42, stratify=y)"
   ]
  },
  {
   "cell_type": "code",
   "execution_count": 5,
   "metadata": {},
   "outputs": [
    {
     "name": "stderr",
     "output_type": "stream",
     "text": [
      "F:\\software\\Anaconda3\\lib\\site-packages\\h5py\\__init__.py:36: FutureWarning: Conversion of the second argument of issubdtype from `float` to `np.floating` is deprecated. In future, it will be treated as `np.float64 == np.dtype(float).type`.\n",
      "  from ._conv import register_converters as _register_converters\n",
      "Using TensorFlow backend.\n"
     ]
    }
   ],
   "source": [
    "from keras.models import Model\n",
    "from keras.callbacks import EarlyStopping\n",
    "from keras.layers import Input, Dense, Dropout\n",
    "from keras.regularizers import l2\n",
    "\n",
    "import tensorflow as tf\n",
    "\n",
    "from sklearn.metrics import roc_auc_score"
   ]
  },
  {
   "cell_type": "code",
   "execution_count": 6,
   "metadata": {},
   "outputs": [],
   "source": [
    "def get_model(input_shape, layers, dropout = 0.2, regularization = 1e-4):\n",
    "    input = Input(shape=(input_shape,))\n",
    "\n",
    "    layer = input\n",
    "    for layer_dim in layers:\n",
    "        layer = Dense(layer_dim, activation = 'relu',\n",
    "                      W_regularizer=l2(regularization),\n",
    "                      b_regularizer=l2(regularization))(layer)\n",
    "        #layer = Dropout(dropout)(layer)\n",
    "    \n",
    "    layer = Dropout(dropout)(layer)\n",
    "    result = Dense(1, activation = 'sigmoid')(layer)\n",
    "\n",
    "\n",
    "    model = Model(input=input, output=result)\n",
    "    model.compile(optimizer='adam', loss='binary_crossentropy',metrics=[auc])\n",
    "\n",
    "    return model"
   ]
  },
  {
   "cell_type": "code",
   "execution_count": 7,
   "metadata": {},
   "outputs": [],
   "source": [
    "nn_layers = [128,64,32]\n",
    "train_epoches = 200\n",
    "batch_size = 512"
   ]
  },
  {
   "cell_type": "code",
   "execution_count": 8,
   "metadata": {},
   "outputs": [],
   "source": [
    "from keras import backend as K  \n",
    "def auc(y_true, y_pred):  \n",
    "    ptas = tf.stack([binary_PTA(y_true,y_pred,k) for k in np.linspace(0, 1, 1000)],axis=0)  \n",
    "    pfas = tf.stack([binary_PFA(y_true,y_pred,k) for k in np.linspace(0, 1, 1000)],axis=0)  \n",
    "    pfas = tf.concat([tf.ones((1,)) ,pfas],axis=0)  \n",
    "    binSizes = -(pfas[1:]-pfas[:-1])  \n",
    "    s = ptas*binSizes  \n",
    "    return K.sum(s, axis=0)  \n",
    "\n",
    "def binary_PFA(y_true, y_pred, threshold=K.variable(value=0.5)):  \n",
    "    y_pred = K.cast(y_pred >= threshold, 'float32')  \n",
    "    # N = total number of negative labels  \n",
    "    N = K.sum(1 - y_true)  \n",
    "    # FP = total number of false alerts, alerts from the negative class labels  \n",
    "    FP = K.sum(y_pred - y_pred * y_true)  \n",
    "    return FP/N  \n",
    "\n",
    "def binary_PTA(y_true, y_pred, threshold=K.variable(value=0.5)):  \n",
    "    y_pred = K.cast(y_pred >= threshold, 'float32')  \n",
    "    # P = total number of positive labels  \n",
    "    P = K.sum(y_true)  \n",
    "    # TP = total number of correct alerts, alerts from the positive class labels  \n",
    "    TP = K.sum(y_pred * y_true)  \n",
    "    return TP/P  "
   ]
  },
  {
   "cell_type": "code",
   "execution_count": 9,
   "metadata": {},
   "outputs": [
    {
     "name": "stderr",
     "output_type": "stream",
     "text": [
      "C:\\Users\\kuhung\\AppData\\Roaming\\Python\\Python36\\site-packages\\ipykernel_launcher.py:8: UserWarning: Update your `Dense` call to the Keras 2 API: `Dense(256, activation=\"relu\", kernel_regularizer=<keras.reg..., bias_regularizer=<keras.reg...)`\n",
      "  \n",
      "C:\\Users\\kuhung\\AppData\\Roaming\\Python\\Python36\\site-packages\\ipykernel_launcher.py:8: UserWarning: Update your `Dense` call to the Keras 2 API: `Dense(128, activation=\"relu\", kernel_regularizer=<keras.reg..., bias_regularizer=<keras.reg...)`\n",
      "  \n",
      "C:\\Users\\kuhung\\AppData\\Roaming\\Python\\Python36\\site-packages\\ipykernel_launcher.py:8: UserWarning: Update your `Dense` call to the Keras 2 API: `Dense(64, activation=\"relu\", kernel_regularizer=<keras.reg..., bias_regularizer=<keras.reg...)`\n",
      "  \n",
      "C:\\Users\\kuhung\\AppData\\Roaming\\Python\\Python36\\site-packages\\ipykernel_launcher.py:8: UserWarning: Update your `Dense` call to the Keras 2 API: `Dense(32, activation=\"relu\", kernel_regularizer=<keras.reg..., bias_regularizer=<keras.reg...)`\n",
      "  \n",
      "C:\\Users\\kuhung\\AppData\\Roaming\\Python\\Python36\\site-packages\\ipykernel_launcher.py:15: UserWarning: Update your `Model` call to the Keras 2 API: `Model(inputs=Tensor(\"in..., outputs=Tensor(\"de...)`\n",
      "  from ipykernel import kernelapp as app\n"
     ]
    },
    {
     "name": "stdout",
     "output_type": "stream",
     "text": [
      "_________________________________________________________________\n",
      "Layer (type)                 Output Shape              Param #   \n",
      "=================================================================\n",
      "input_1 (InputLayer)         (None, 313)               0         \n",
      "_________________________________________________________________\n",
      "dense_1 (Dense)              (None, 256)               80384     \n",
      "_________________________________________________________________\n",
      "dropout_1 (Dropout)          (None, 256)               0         \n",
      "_________________________________________________________________\n",
      "dense_2 (Dense)              (None, 128)               32896     \n",
      "_________________________________________________________________\n",
      "dropout_2 (Dropout)          (None, 128)               0         \n",
      "_________________________________________________________________\n",
      "dense_3 (Dense)              (None, 64)                8256      \n",
      "_________________________________________________________________\n",
      "dropout_3 (Dropout)          (None, 64)                0         \n",
      "_________________________________________________________________\n",
      "dense_4 (Dense)              (None, 32)                2080      \n",
      "_________________________________________________________________\n",
      "dropout_4 (Dropout)          (None, 32)                0         \n",
      "_________________________________________________________________\n",
      "dense_5 (Dense)              (None, 1)                 33        \n",
      "=================================================================\n",
      "Total params: 123,649\n",
      "Trainable params: 123,649\n",
      "Non-trainable params: 0\n",
      "_________________________________________________________________\n"
     ]
    }
   ],
   "source": [
    "model = get_model(x.shape[1], nn_layers)\n",
    "model.summary()"
   ]
  },
  {
   "cell_type": "code",
   "execution_count": 10,
   "metadata": {
    "scrolled": true
   },
   "outputs": [
    {
     "name": "stderr",
     "output_type": "stream",
     "text": [
      "C:\\Users\\kuhung\\AppData\\Roaming\\Python\\Python36\\site-packages\\ipykernel_launcher.py:6: UserWarning: The `nb_epoch` argument in `fit` has been renamed `epochs`.\n",
      "  \n"
     ]
    },
    {
     "name": "stdout",
     "output_type": "stream",
     "text": [
      "Train on 58517 samples, validate on 14630 samples\n",
      "Epoch 1/200\n",
      "58517/58517 [==============================] - 35s 593us/step - loss: 0.6602 - auc: 0.5958 - val_loss: 0.6166 - val_auc: 0.7062\n",
      "Epoch 2/200\n",
      "58517/58517 [==============================] - 4s 63us/step - loss: 0.6149 - auc: 0.6887 - val_loss: 0.5980 - val_auc: 0.7285\n",
      "Epoch 3/200\n",
      "58517/58517 [==============================] - 4s 60us/step - loss: 0.5955 - auc: 0.7131 - val_loss: 0.5749 - val_auc: 0.7372\n",
      "Epoch 4/200\n",
      "58517/58517 [==============================] - 3s 58us/step - loss: 0.5821 - auc: 0.7245 - val_loss: 0.5667 - val_auc: 0.7426\n",
      "Epoch 5/200\n",
      "58517/58517 [==============================] - 3s 59us/step - loss: 0.5732 - auc: 0.7338 - val_loss: 0.5653 - val_auc: 0.7415\n",
      "Epoch 6/200\n",
      "58517/58517 [==============================] - 4s 63us/step - loss: 0.5683 - auc: 0.7370 - val_loss: 0.5612 - val_auc: 0.7439\n",
      "Epoch 7/200\n",
      "58517/58517 [==============================] - 3s 59us/step - loss: 0.5621 - auc: 0.7440 - val_loss: 0.5583 - val_auc: 0.7438\n",
      "Epoch 8/200\n",
      "58517/58517 [==============================] - 3s 59us/step - loss: 0.5581 - auc: 0.7461 - val_loss: 0.5554 - val_auc: 0.7453\n",
      "Epoch 9/200\n",
      "58517/58517 [==============================] - 3s 60us/step - loss: 0.5550 - auc: 0.7482 - val_loss: 0.5554 - val_auc: 0.7446\n",
      "Epoch 10/200\n",
      "58517/58517 [==============================] - 4s 63us/step - loss: 0.5503 - auc: 0.7531 - val_loss: 0.5537 - val_auc: 0.7453\n",
      "Epoch 11/200\n",
      "58517/58517 [==============================] - 3s 59us/step - loss: 0.5479 - auc: 0.7564 - val_loss: 0.5546 - val_auc: 0.7453\n",
      "Total roc auc score = 0.7457\n"
     ]
    }
   ],
   "source": [
    "callback = EarlyStopping(\"auc\", patience=10, verbose=0, mode='auto')\n",
    "model.fit(\n",
    "    x, y,\n",
    "    nb_epoch=train_epoches, batch_size=batch_size,\n",
    "    validation_data=(x_test, y_test),\n",
    "    callbacks=[callback], verbose = 1)\n",
    "\n",
    "# Calculate total roc auc score\n",
    "score = roc_auc_score(y_test, model.predict(x_test))\n",
    "print(\"Total roc auc score = {0:0.4f}\".format(score))"
   ]
  },
  {
   "cell_type": "code",
   "execution_count": 11,
   "metadata": {
    "scrolled": true
   },
   "outputs": [],
   "source": [
    "ids = test['id'].values\n",
    "test.drop('id', inplace=True, axis=1)"
   ]
  },
  {
   "cell_type": "code",
   "execution_count": 12,
   "metadata": {},
   "outputs": [],
   "source": [
    "def make_submission(model, ids, X_test,\n",
    "                    submission_file_template = \"../output/submission_nn_{}.csv\"):\n",
    "    submission = pd.DataFrame()\n",
    "    submission[\"id\"] = ids\n",
    "    submission[\"is_pass\"] = model.predict(X_test)\n",
    "    filename = submission_file_template.format(time.strftime(\"%Y-%m-%d_{0:0.4f}\".format(score)))\n",
    "    submission.to_csv(filename, index=None)"
   ]
  },
  {
   "cell_type": "code",
   "execution_count": 13,
   "metadata": {},
   "outputs": [],
   "source": [
    "make_submission(model,ids,test)"
   ]
  }
 ],
 "metadata": {
  "kernelspec": {
   "display_name": "Python 3",
   "language": "python",
   "name": "python3"
  },
  "language_info": {
   "codemirror_mode": {
    "name": "ipython",
    "version": 3
   },
   "file_extension": ".py",
   "mimetype": "text/x-python",
   "name": "python",
   "nbconvert_exporter": "python",
   "pygments_lexer": "ipython3",
   "version": "3.6.4"
  }
 },
 "nbformat": 4,
 "nbformat_minor": 2
}
